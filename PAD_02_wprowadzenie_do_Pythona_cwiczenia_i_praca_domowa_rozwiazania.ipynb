{
 "cells": [
  {
   "cell_type": "markdown",
   "metadata": {
    "id": "YBf77-O2VMaK"
   },
   "source": [
    "## iterator"
   ]
  },
  {
   "cell_type": "code",
   "execution_count": null,
   "metadata": {
    "id": "MobBtdWEVEu1"
   },
   "outputs": [],
   "source": [
    "'''\n",
    "Zadanie 1\n",
    "Zaimplementuj własny iterator o nazwie tetranacci, zwracający kolejne liczby ciągu Tetranacciego.\n",
    "Funkcja __init__ powinna posiadać parametr o nazwie steps określający liczbę wyrazów ciągu,\n",
    "po których funkcja __next__ rzuca wyjątek StopIteration.\n",
    "Napisz program, w którym wykorzystasz swój iterator do wypisania na ekranie kolejnych wyrazów tego ciągu.\n",
    "Niech liczbę wyrazów do wypisania podaje użytkownik.\n",
    "\n",
    "'''"
   ]
  },
  {
   "cell_type": "code",
   "execution_count": 4,
   "metadata": {},
   "outputs": [
    {
     "name": "stdout",
     "output_type": "stream",
     "text": [
      "0\n",
      "0\n",
      "0\n",
      "1\n",
      "1\n",
      "2\n",
      "4\n",
      "8\n",
      "15\n",
      "29\n"
     ]
    }
   ],
   "source": [
    "class Tetranacci:\n",
    "    def __init__(self, steps):\n",
    "        self.steps = steps\n",
    "        self.count = 0\n",
    "        self.values = [0, 0, 0, 1]\n",
    "\n",
    "    def __iter__(self):\n",
    "        return self\n",
    "    \n",
    "    def __next__(self):\n",
    "        if self.count < self.steps:\n",
    "            self.count += 1\n",
    "            if self.count <= 4:\n",
    "                return self.values[self.count-1]\n",
    "            else:\n",
    "                next_value = sum(self.values)\n",
    "                self.values = self.values[1:] + [next_value]\n",
    "                return next_value\n",
    "        else:\n",
    "            raise StopIteration\n",
    "        \n",
    "\n",
    "steps = int(input(\"Wpisz dowolną liczbę całkowitą \"))\n",
    "tet = Tetranacci(steps)\n",
    "# print(next(tet))\n",
    "# print(next(tet))\n",
    "# print(next(tet))\n",
    "# print(next(tet))\n",
    "for val in tet:\n",
    "    print(val)"
   ]
  },
  {
   "cell_type": "markdown",
   "metadata": {
    "id": "HgA0kNjTVXwG"
   },
   "source": [
    "## generator"
   ]
  },
  {
   "cell_type": "code",
   "execution_count": null,
   "metadata": {
    "id": "hl3BhofyVdoH"
   },
   "outputs": [],
   "source": [
    "'''\n",
    "Zadanie 2\n",
    "Zaimplementuj własny generator o nazwie accumulate,\n",
    "zwracający kolejne sumy elementów z podanego obiektu iterowalnego.\n",
    "'''\n"
   ]
  },
  {
   "cell_type": "code",
   "execution_count": 1,
   "metadata": {},
   "outputs": [
    {
     "name": "stdout",
     "output_type": "stream",
     "text": [
      "1\n",
      "3\n",
      "6\n",
      "10\n"
     ]
    }
   ],
   "source": [
    "def accumulate(obiekt_iterowalny):\n",
    "    suma = 0\n",
    "    for wartosc in obiekt_iterowalny:\n",
    "        suma += wartosc\n",
    "        yield suma\n",
    "\n",
    "for val in accumulate([1,2,3,4]):\n",
    "    print(val)"
   ]
  },
  {
   "cell_type": "code",
   "execution_count": 2,
   "metadata": {},
   "outputs": [
    {
     "data": {
      "text/plain": [
       "1"
      ]
     },
     "execution_count": 2,
     "metadata": {},
     "output_type": "execute_result"
    }
   ],
   "source": [
    "gen = accumulate((1,2,3,4))\n",
    "next(gen)\n"
   ]
  },
  {
   "cell_type": "code",
   "execution_count": 3,
   "metadata": {},
   "outputs": [
    {
     "name": "stdout",
     "output_type": "stream",
     "text": [
      "3\n",
      "6\n",
      "10\n"
     ]
    },
    {
     "ename": "StopIteration",
     "evalue": "",
     "output_type": "error",
     "traceback": [
      "\u001b[0;31m---------------------------------------------------------------------------\u001b[0m",
      "\u001b[0;31mStopIteration\u001b[0m                             Traceback (most recent call last)",
      "Cell \u001b[0;32mIn[3], line 4\u001b[0m\n\u001b[1;32m      2\u001b[0m \u001b[38;5;28mprint\u001b[39m(\u001b[38;5;28mnext\u001b[39m(gen))\n\u001b[1;32m      3\u001b[0m \u001b[38;5;28mprint\u001b[39m(\u001b[38;5;28mnext\u001b[39m(gen))\n\u001b[0;32m----> 4\u001b[0m \u001b[38;5;28mprint\u001b[39m(\u001b[38;5;28;43mnext\u001b[39;49m\u001b[43m(\u001b[49m\u001b[43mgen\u001b[49m\u001b[43m)\u001b[49m)\n",
      "\u001b[0;31mStopIteration\u001b[0m: "
     ]
    }
   ],
   "source": [
    "print(next(gen))\n",
    "print(next(gen))\n",
    "print(next(gen))\n",
    "print(next(gen))"
   ]
  },
  {
   "cell_type": "code",
   "execution_count": null,
   "metadata": {
    "id": "ffhbiOTJVnmB"
   },
   "outputs": [],
   "source": [
    "'''\n",
    "Zadanie 3\n",
    "\n",
    "Napisz własny dekorator o nazwie hello. Wynikiem jego działania powinno być:\n",
    "• wypisanie na ekranie napisu hello\n",
    "• wywołanie funkcji przekazanej jako argument.\n",
    "'''"
   ]
  },
  {
   "cell_type": "code",
   "execution_count": 12,
   "metadata": {},
   "outputs": [],
   "source": [
    "def hello(my_function):\n",
    "    def wrapper(*args, **kwargs):\n",
    "        print(\"Hello\")\n",
    "        return my_function(*args, **kwargs)\n",
    "    return wrapper"
   ]
  },
  {
   "cell_type": "code",
   "execution_count": 13,
   "metadata": {},
   "outputs": [
    {
     "name": "stdout",
     "output_type": "stream",
     "text": [
      "Hello\n",
      "Miło Cię poznać Dominika\n"
     ]
    }
   ],
   "source": [
    "@hello\n",
    "def greet(name):\n",
    "    print(f\"Miło Cię poznać {name}\")\n",
    "\n",
    "greet(\"Dominika\")"
   ]
  },
  {
   "cell_type": "code",
   "execution_count": 6,
   "metadata": {
    "id": "NjZRSS6sVrm5"
   },
   "outputs": [
    {
     "name": "stdout",
     "output_type": "stream",
     "text": [
      "29\n"
     ]
    }
   ],
   "source": [
    "'''\n",
    "Zadanie 4\n",
    "Zaimplementuj własną funkcję o nazwie tetranacci, zwracający określony element ciągu Tetranacciego.\n",
    "Funkcja powinna posiadać parametr o nazwie n określający numer wyrazu ciągu do obliczenia.\n",
    "Obliczenia wykonuj rekurencyjnie.\n",
    "'''\n",
    "\n",
    "def tetranacci(n):\n",
    "    if n == 1 or n == 2 or n == 3:\n",
    "        return 0\n",
    "    elif n == 4:\n",
    "        return 1\n",
    "    else:\n",
    "        return tetranacci(n-1) + tetranacci(n-2) + tetranacci(n-3) + tetranacci(n-4)\n",
    "    \n",
    "print(tetranacci(10))"
   ]
  },
  {
   "cell_type": "markdown",
   "metadata": {
    "id": "eDFgAg3cWRAk"
   },
   "source": [
    "## klasy"
   ]
  },
  {
   "cell_type": "code",
   "execution_count": null,
   "metadata": {
    "id": "LMrKGhhSWMM8"
   },
   "outputs": [],
   "source": [
    "'''\n",
    "Zadanie 5\n",
    "Stwórz klasę Pojazd z atrybutami predkosc_max i przebieg\n",
    "stwórz instancję klasy i wydrukuj jej atrybuty do konsoli\n",
    "tworzac instancję możesz podać dowolne wielkości\n",
    "'''"
   ]
  },
  {
   "cell_type": "code",
   "execution_count": 3,
   "metadata": {},
   "outputs": [
    {
     "name": "stdout",
     "output_type": "stream",
     "text": [
      "100\n",
      "200\n"
     ]
    }
   ],
   "source": [
    "class Pojazd:\n",
    "    def __init__(self, predkosc_max, przebieg, model):\n",
    "        self.predkosc_max = predkosc_max\n",
    "        self.przebieg = przebieg\n",
    "        self.model = model\n",
    "    \n",
    "pojazd1 = Pojazd(100, 200, \"Volvo\")\n",
    "print(pojazd1.predkosc_max)\n",
    "print(pojazd1.przebieg)"
   ]
  },
  {
   "cell_type": "code",
   "execution_count": 4,
   "metadata": {
    "id": "z_dYT1f5Wexv"
   },
   "outputs": [
    {
     "name": "stdout",
     "output_type": "stream",
     "text": [
      "300\n",
      "20\n",
      "Szkolny autobus\n"
     ]
    }
   ],
   "source": [
    "'''\n",
    "Zadanie 6\n",
    "Stwórz klasę Autobus, która dziedziczy po Pojeździe utworzonym wcześniej,\n",
    "ale do atrybutów Pojazdu dodaj jeszcze nazwę modelu\n",
    "stwórz instancję klasy i wydrukuj jej atrybuty\n",
    "'''\n",
    "\n",
    "class Autobus(Pojazd):\n",
    "    pass\n",
    "\n",
    "szkolny_autobus = Autobus(300, 20, \"Szkolny autobus\")\n",
    "print(szkolny_autobus.predkosc_max)\n",
    "print(szkolny_autobus.przebieg)\n",
    "print(szkolny_autobus.model)"
   ]
  },
  {
   "cell_type": "code",
   "execution_count": null,
   "metadata": {
    "id": "CDj9cBQoWj-v"
   },
   "outputs": [],
   "source": [
    "'''\n",
    "Zadanie 7\n",
    "klasie Pojazd utwórz metodę liczba_miejsc, która będzie przyjmowała jako argument liczbę miejsc i wyświetlała komunikat:\n",
    "\"{TU WSTAWIMY NAZWE POJAZDU} pomieści {LICZBA MIEJSC} osób.\"\n",
    "Klasa Autobus ma też dziedziczyć tę metodę, ale dodatkowo przyjmować wartość domyślną dla liczby miejsc = 50\n",
    "Utwórz instancję klasy aby zaprezentować działanie\n",
    "'''\n"
   ]
  },
  {
   "cell_type": "code",
   "execution_count": 42,
   "metadata": {},
   "outputs": [
    {
     "name": "stdout",
     "output_type": "stream",
     "text": [
      "Szkolny autobus pomieści 30 osób\n"
     ]
    }
   ],
   "source": [
    "class Pojazd:\n",
    "    def __init__(self, predkosc_max, przebieg, model):\n",
    "        self.predkosc_max = predkosc_max\n",
    "        self.przebieg = przebieg\n",
    "        self.model = model\n",
    "    \n",
    "    def liczba_miejsc(self, miejsca):\n",
    "        return f\"{self.model} pomieści {miejsca} osób\"\n",
    "        \n",
    "class Autobus(Pojazd):\n",
    "    def liczba_miejsc(self, miejsca=50):\n",
    "        return super().liczba_miejsc(miejsca)\n",
    "    \n",
    "szkolny_autobus = Autobus(300, 20, \"Szkolny autobus\")\n",
    "print(szkolny_autobus.liczba_miejsc(30))"
   ]
  },
  {
   "cell_type": "code",
   "execution_count": 12,
   "metadata": {
    "id": "y2s80EMmWrKP"
   },
   "outputs": [
    {
     "name": "stdout",
     "output_type": "stream",
     "text": [
      "True\n",
      "True\n"
     ]
    }
   ],
   "source": [
    "'''\n",
    "Zadanie 8\n",
    "Sprawdź czy obiekt autobus jest instancją klasy Pojazd\n",
    "'''\n",
    "print(isinstance(szkolny_autobus, Pojazd))\n",
    "print(isinstance(szkolny_autobus, Autobus))"
   ]
  },
  {
   "cell_type": "markdown",
   "metadata": {
    "id": "jjNBmv7pVwP_"
   },
   "source": [
    "## PRACA DOMOWA (15 pkt)"
   ]
  },
  {
   "cell_type": "code",
   "execution_count": 28,
   "metadata": {
    "id": "TTUMq_uuVx32"
   },
   "outputs": [
    {
     "name": "stdout",
     "output_type": "stream",
     "text": [
      "Found tetranacci for n = 4 in cache!\n",
      "Found tetranacci for n = 3 in cache!\n",
      "Found tetranacci for n = 2 in cache!\n",
      "Found tetranacci for n = 5 in cache!\n",
      "Found tetranacci for n = 4 in cache!\n",
      "Found tetranacci for n = 3 in cache!\n",
      "Found tetranacci for n = 6 in cache!\n",
      "Found tetranacci for n = 5 in cache!\n",
      "Found tetranacci for n = 4 in cache!\n",
      "Found tetranacci for n = 7 in cache!\n",
      "Found tetranacci for n = 6 in cache!\n",
      "Found tetranacci for n = 5 in cache!\n",
      "Found tetranacci for n = 8 in cache!\n",
      "Found tetranacci for n = 7 in cache!\n",
      "Found tetranacci for n = 6 in cache!\n",
      "29\n",
      "\n",
      "----------------\n",
      "\n",
      "Found tetranacci for n = 10 in cache!\n",
      "29\n"
     ]
    }
   ],
   "source": [
    "'''\n",
    "Zadanie 1 (4 pkt)\n",
    "Wykorzystując dekoratory, napisz cache dla funkcji tetranacci z poprzedniego zadania 1 z ćwiczeń.\n",
    "Ten dekorator powinien zapobiegać przed ponownym obliczaniem tych samych wartości.\n",
    "'''\n",
    "def cache(my_function):\n",
    "    cache_dict = {}\n",
    "    def wrapper(*args, **kwargs):\n",
    "        n = args[0]\n",
    "        if n in cache_dict:\n",
    "            print(f\"Found tetranacci for n = {n} in cache!\")\n",
    "            return cache_dict[n]\n",
    "        else:\n",
    "            result = my_function(*args, **kwargs)\n",
    "            cache_dict[n] = result\n",
    "            return result\n",
    "    return wrapper\n",
    "\n",
    "@cache\n",
    "def tetranacci(n):\n",
    "    if n == 1 or n == 2 or n == 3:\n",
    "        return 0\n",
    "    elif n == 4:\n",
    "        return 1\n",
    "    else:\n",
    "        return tetranacci(n-1) + tetranacci(n-2) + tetranacci(n-3) + tetranacci(n-4)\n",
    "    \n",
    "print(tetranacci(10))\n",
    "print(\"\\n----------------\\n\")\n",
    "print(tetranacci(10))"
   ]
  },
  {
   "cell_type": "code",
   "execution_count": 41,
   "metadata": {
    "id": "Q_Ur2Z9uWF-l"
   },
   "outputs": [
    {
     "name": "stdout",
     "output_type": "stream",
     "text": [
      "10\n",
      "10\n",
      "10\n",
      "\n",
      "----------------\n",
      "\n",
      "10\n",
      "10\n",
      "10\n",
      "10\n",
      "10\n",
      "\n",
      "----------------\n",
      "\n",
      "5\n",
      "5\n",
      "5\n",
      "5\n",
      "5\n",
      "\n",
      "----------------\n",
      "\n",
      "5\n",
      "5\n",
      "5\n",
      "5\n",
      "5\n"
     ]
    }
   ],
   "source": [
    "'''\n",
    "Zadanie 2 (4 pkt)\n",
    "Zaimplementuj własny generator o nazwie repeat, zwracający obiekt podany przez użytkownika dokładnie N razy.\n",
    "Jeśli wartość parametru N nie została określona, generator powinien zwracać wartości w nieskończoność.\n",
    "\n",
    "PRZYKŁAD\n",
    "repeat(10, 3) → 10 10 10\n",
    "repeat(10, 5) → 10 10 10 10 10\n",
    "repeat(5) → 5 5 5 5 5 5 5 5 5 5 5 5 5 5 5…\n",
    "repeat(5, None) → 5 5 5 5 5 5 5 5 5 5 5 5 5 5 5…\n",
    "'''\n",
    "\n",
    "def repeat(obj, N=None):\n",
    "    if N is None:\n",
    "        while True:\n",
    "            yield obj\n",
    "    else:\n",
    "        for _ in range(N):\n",
    "            yield obj\n",
    "            \n",
    "generator = repeat(10, 3)\n",
    "for i in generator:\n",
    "    print(i)\n",
    "print(\"\\n----------------\\n\")\n",
    "\n",
    "generator = repeat(10, 5)\n",
    "for i in generator:\n",
    "    print(i)\n",
    "print(\"\\n----------------\\n\")\n",
    "\n",
    "generator = repeat(5)\n",
    "'''\n",
    "Will raise exception - infinite loop!\n",
    "for i in generator:\n",
    "    print(i)\n",
    "'''\n",
    "print(next(generator))\n",
    "print(next(generator))\n",
    "print(next(generator))\n",
    "print(next(generator))\n",
    "print(next(generator))\n",
    "print(\"\\n----------------\\n\")\n",
    "\n",
    "generator = repeat(5, None)\n",
    "'''\n",
    "Will raise exception - infinite loop!\n",
    "for i in generator:\n",
    "    print(i)\n",
    "'''\n",
    "print(next(generator))\n",
    "print(next(generator))\n",
    "print(next(generator))\n",
    "print(next(generator))\n",
    "print(next(generator))"
   ]
  },
  {
   "cell_type": "code",
   "execution_count": 46,
   "metadata": {
    "id": "gChh80FsWzT7"
   },
   "outputs": [
    {
     "name": "stdout",
     "output_type": "stream",
     "text": [
      "biały\n",
      "biały\n",
      "biały\n"
     ]
    }
   ],
   "source": [
    "'''\n",
    "Zadanie 3 (1 pkt)\n",
    "W kodzie z zajęć w klasie Pojazd utwórz atrybut, który niezależnie od utworzonego obiektu będzie miał taką samą wartość.\n",
    "każdy obiekt ma mieć kolor biały\n",
    "'''\n",
    "Pojazd.color = 'biały'\n",
    "\n",
    "autokar = Autobus(300, 20, \"Autokar\")\n",
    "samochod = Pojazd(300, 20, \"Samochod\")\n",
    "\n",
    "print(szkolny_autobus.color)\n",
    "print(autokar.color)\n",
    "print(samochod.color)"
   ]
  },
  {
   "cell_type": "code",
   "execution_count": 56,
   "metadata": {
    "id": "Q4Js_zjIXHZi"
   },
   "outputs": [
    {
     "name": "stdout",
     "output_type": "stream",
     "text": [
      "5500.0\n",
      "500\n"
     ]
    }
   ],
   "source": [
    "'''\n",
    "Zadanie 4 (2 pkt)\n",
    "Wykorzystaj klasy Autobus i Pojazd.\n",
    "Zdefiniuj metodę opłata, k†óra będzie miała wartość domyślną liczba_miejsc * 100\n",
    "Jeżeli Pojazd jest instancją Autobusu, opłata ma zostać powiększona o 10% wartości opłaty początkowej.\n",
    "Np. jeżeli autobus domyślnie ma 50 miejsc to opłata całkowita wyniesie 5500\n",
    "'''\n",
    "class Pojazd:\n",
    "    def __init__(self, predkosc_max, przebieg, model, liczba_miejsc):\n",
    "        self.predkosc_max = predkosc_max\n",
    "        self.przebieg = przebieg\n",
    "        self.model = model\n",
    "        self.liczba_miejsc = liczba_miejsc\n",
    "    \n",
    "    def opłata(self):\n",
    "        return self.liczba_miejsc * 100;\n",
    "        \n",
    "class Autobus(Pojazd):\n",
    "    def opłata(self):\n",
    "        return super().opłata() * 1.1\n",
    "    \n",
    "autokar = Autobus(300, 20, \"Autokar\", 50)\n",
    "samochod = Pojazd(300, 20, \"Samochod\", 5)\n",
    "\n",
    "print(autokar.opłata())\n",
    "print(samochod.opłata())"
   ]
  },
  {
   "cell_type": "code",
   "execution_count": 95,
   "metadata": {
    "id": "BsdImsIAXXsu"
   },
   "outputs": [
    {
     "name": "stdout",
     "output_type": "stream",
     "text": [
      "3*x^2 + 2*x + 1\n",
      "1\n",
      "6\n",
      "Nieskończona liczba rozwiązań\n",
      "Brak rozwiązań\n",
      "-1.5\n",
      "Brak rozwiązań\n",
      "x1 = 2.0; x2 = 3.0\n",
      "x1 = x2 = -2.0\n"
     ]
    }
   ],
   "source": [
    "'''\n",
    "Zadanie 5 (4 pkt)\n",
    "Napisz klasę FunkcjaKwadratowa, która przechowuje funkcje typu $ax^2$+bx+c.\n",
    "Klasa powinna zawierać trzy pola: a, b, c, które są przypisywane w konstruktorze.\n",
    "Główną metodą powinna być rozwiaz(), która zwraca miejsca zerowe podanej funkcji.\n",
    "Należy zwrócić uwagę na przypadki gdy a=0, b=0 lub c=0,\n",
    "a także obmyślić sposób informowania o nieskończonej liczbie, jednym lub zerze rozwiązań.\n",
    "'''\n",
    "\n",
    "'''\n",
    "początek kodu dla ułatwienia\n",
    "\n",
    "'''\n",
    "import math\n",
    "\n",
    "class FunkcjaKwadratowa:\n",
    "    def __init__(self, a, b, c):\n",
    "        self.a = a\n",
    "        self.b = b\n",
    "        self.c = c\n",
    "\n",
    "    def wypisz(self):\n",
    "        print(f\"{self.a}*x^2 + {self.b}*x + {self.c}\")\n",
    "\n",
    "    def oblicz_wartosc(self, x):\n",
    "        return self.a*(x**2) + self.b*x + self.c\n",
    "\n",
    "    def rozwiaz(self):\n",
    "        if (self.a == 0 and self.b == 0 and self.c ==0):\n",
    "            return \"Nieskończona liczba rozwiązań\"\n",
    "        elif (self.a == 0 and self.b == 0):\n",
    "            return \"Brak rozwiązań\"\n",
    "        elif(self.a == 0):\n",
    "            return f\"{-self.c/self.b}\"\n",
    "        else:\n",
    "            delta = self.b**2 - 4*self.a*self.c\n",
    "            if delta > 0:\n",
    "                return f\"x1 = {(-self.b-math.sqrt(delta))/(2*self.a)}; x2 = {(-self.b+math.sqrt(delta))/(2*self.a)}\"\n",
    "            elif delta == 0:\n",
    "                return f\"x1 = x2 = {-self.b/(2*self.a)}\"\n",
    "            else:\n",
    "                return \"Brak rozwiązań\"\n",
    "\n",
    "def main():\n",
    "    f1 = FunkcjaKwadratowa(3, 2, 1)\n",
    "    f1.wypisz()\n",
    "    print(f1.oblicz_wartosc(0))\n",
    "    print(f1.oblicz_wartosc(1))\n",
    "\n",
    "    print(FunkcjaKwadratowa(0, 0, 0).rozwiaz())\n",
    "    print(FunkcjaKwadratowa(0, 0, 1).rozwiaz())\n",
    "    print(FunkcjaKwadratowa(0, 2, 3).rozwiaz())\n",
    "    print(FunkcjaKwadratowa(1, 2, 3).rozwiaz())\n",
    "    print(FunkcjaKwadratowa(1, -5, 6).rozwiaz())\n",
    "    print(FunkcjaKwadratowa(1, 4, 4).rozwiaz())\n",
    "\n",
    "if __name__ == \"__main__\":\n",
    "    main()"
   ]
  },
  {
   "cell_type": "code",
   "execution_count": null,
   "metadata": {},
   "outputs": [],
   "source": []
  }
 ],
 "metadata": {
  "colab": {
   "authorship_tag": "ABX9TyPfvCA8avt9JyH+RrMyhpFb",
   "provenance": []
  },
  "kernelspec": {
   "display_name": "Python 3 (ipykernel)",
   "language": "python",
   "name": "python3"
  },
  "language_info": {
   "codemirror_mode": {
    "name": "ipython",
    "version": 3
   },
   "file_extension": ".py",
   "mimetype": "text/x-python",
   "name": "python",
   "nbconvert_exporter": "python",
   "pygments_lexer": "ipython3",
   "version": "3.10.9"
  }
 },
 "nbformat": 4,
 "nbformat_minor": 1
}
